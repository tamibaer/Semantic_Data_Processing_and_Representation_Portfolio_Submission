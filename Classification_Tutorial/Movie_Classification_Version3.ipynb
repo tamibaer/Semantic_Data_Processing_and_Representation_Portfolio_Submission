{
  "cells": [
    {
      "attachments": {},
      "cell_type": "markdown",
      "metadata": {
        "id": "c6RHZ7CBFqfY"
      },
      "source": [
        "# Load Dataset"
      ]
    },
    {
      "cell_type": "code",
      "execution_count": 11,
      "metadata": {
        "colab": {
          "base_uri": "https://localhost:8080/",
          "height": 261
        },
        "id": "CvvP9J9cEN7R",
        "outputId": "f0cfce60-3fb0-4137-f344-61282846362e"
      },
      "outputs": [
        {
          "data": {
            "text/html": [
              "<div>\n",
              "<style scoped>\n",
              "    .dataframe tbody tr th:only-of-type {\n",
              "        vertical-align: middle;\n",
              "    }\n",
              "\n",
              "    .dataframe tbody tr th {\n",
              "        vertical-align: top;\n",
              "    }\n",
              "\n",
              "    .dataframe thead th {\n",
              "        text-align: right;\n",
              "    }\n",
              "</style>\n",
              "<table border=\"1\" class=\"dataframe\">\n",
              "  <thead>\n",
              "    <tr style=\"text-align: right;\">\n",
              "      <th></th>\n",
              "      <th>name</th>\n",
              "      <th>class</th>\n",
              "      <th>description</th>\n",
              "    </tr>\n",
              "  </thead>\n",
              "  <tbody>\n",
              "    <tr>\n",
              "      <th>0</th>\n",
              "      <td>Oscar et la dame rose (2009)</td>\n",
              "      <td>drama</td>\n",
              "      <td>Listening in to a conversation between his do...</td>\n",
              "    </tr>\n",
              "    <tr>\n",
              "      <th>1</th>\n",
              "      <td>Cupid (1997)</td>\n",
              "      <td>thriller</td>\n",
              "      <td>A brother and sister with a past incestuous r...</td>\n",
              "    </tr>\n",
              "    <tr>\n",
              "      <th>2</th>\n",
              "      <td>Young, Wild and Wonderful (1980)</td>\n",
              "      <td>adult</td>\n",
              "      <td>As the bus empties the students for their fie...</td>\n",
              "    </tr>\n",
              "    <tr>\n",
              "      <th>3</th>\n",
              "      <td>The Secret Sin (1915)</td>\n",
              "      <td>drama</td>\n",
              "      <td>To help their unemployed father make ends mee...</td>\n",
              "    </tr>\n",
              "    <tr>\n",
              "      <th>4</th>\n",
              "      <td>The Unrecovered (2007)</td>\n",
              "      <td>drama</td>\n",
              "      <td>The film's title refers not only to the un-re...</td>\n",
              "    </tr>\n",
              "  </tbody>\n",
              "</table>\n",
              "</div>"
            ],
            "text/plain": [
              "                                 name       class   \n",
              "0       Oscar et la dame rose (2009)       drama   \\\n",
              "1                       Cupid (1997)    thriller    \n",
              "2   Young, Wild and Wonderful (1980)       adult    \n",
              "3              The Secret Sin (1915)       drama    \n",
              "4             The Unrecovered (2007)       drama    \n",
              "\n",
              "                                         description  \n",
              "0   Listening in to a conversation between his do...  \n",
              "1   A brother and sister with a past incestuous r...  \n",
              "2   As the bus empties the students for their fie...  \n",
              "3   To help their unemployed father make ends mee...  \n",
              "4   The film's title refers not only to the un-re...  "
            ]
          },
          "execution_count": 11,
          "metadata": {},
          "output_type": "execute_result"
        }
      ],
      "source": [
        "import pandas as pd\n",
        "df = pd.read_csv('train_data.txt', sep=':::', header=None, engine='python')\n",
        "df = df.drop(0, axis=1)\n",
        "df.columns = ['name', 'class', 'description']\n",
        "df.head()"
      ]
    },
    {
      "attachments": {},
      "cell_type": "markdown",
      "metadata": {
        "id": "xSqbizriFo2_"
      },
      "source": [
        "# Downsampling"
      ]
    },
    {
      "cell_type": "code",
      "execution_count": 12,
      "metadata": {
        "colab": {
          "base_uri": "https://localhost:8080/"
        },
        "id": "qUChxrqpETVV",
        "outputId": "c9c3d85c-2a05-409a-e590-d983bf23c8f1"
      },
      "outputs": [
        {
          "data": {
            "text/plain": [
              "class\n",
              " drama           10\n",
              " music           10\n",
              " musical         10\n",
              " game-show       10\n",
              " romance         10\n",
              " biography       10\n",
              " news            10\n",
              " history         10\n",
              " mystery         10\n",
              " family          10\n",
              " western         10\n",
              " talk-show       10\n",
              " adventure       10\n",
              " sci-fi          10\n",
              " thriller        10\n",
              " short           10\n",
              " fantasy         10\n",
              " action          10\n",
              " animation       10\n",
              " sport           10\n",
              " horror          10\n",
              " reality-tv      10\n",
              " crime           10\n",
              " comedy          10\n",
              " documentary     10\n",
              " adult           10\n",
              " war             10\n",
              "Name: count, dtype: int64"
            ]
          },
          "execution_count": 12,
          "metadata": {},
          "output_type": "execute_result"
        }
      ],
      "source": [
        "# Cap the number of rows per class to 1000\n",
        "df = df.groupby('class').head(10).reset_index(drop=True) # 2000\n",
        "\n",
        "df['class'].value_counts()"
      ]
    },
    {
      "attachments": {},
      "cell_type": "markdown",
      "metadata": {
        "id": "mNG_27OgFuiS"
      },
      "source": [
        "# Add category id"
      ]
    },
    {
      "cell_type": "code",
      "execution_count": 13,
      "metadata": {
        "colab": {
          "base_uri": "https://localhost:8080/",
          "height": 206
        },
        "id": "bNAA46gHEvdR",
        "outputId": "344c8d04-1db8-4af6-ef9e-375d1a07b419"
      },
      "outputs": [
        {
          "data": {
            "text/html": [
              "<div>\n",
              "<style scoped>\n",
              "    .dataframe tbody tr th:only-of-type {\n",
              "        vertical-align: middle;\n",
              "    }\n",
              "\n",
              "    .dataframe tbody tr th {\n",
              "        vertical-align: top;\n",
              "    }\n",
              "\n",
              "    .dataframe thead th {\n",
              "        text-align: right;\n",
              "    }\n",
              "</style>\n",
              "<table border=\"1\" class=\"dataframe\">\n",
              "  <thead>\n",
              "    <tr style=\"text-align: right;\">\n",
              "      <th></th>\n",
              "      <th>name</th>\n",
              "      <th>class</th>\n",
              "      <th>description</th>\n",
              "      <th>category_id</th>\n",
              "    </tr>\n",
              "  </thead>\n",
              "  <tbody>\n",
              "    <tr>\n",
              "      <th>0</th>\n",
              "      <td>Oscar et la dame rose (2009)</td>\n",
              "      <td>drama</td>\n",
              "      <td>Listening in to a conversation between his do...</td>\n",
              "      <td>0</td>\n",
              "    </tr>\n",
              "    <tr>\n",
              "      <th>1</th>\n",
              "      <td>Cupid (1997)</td>\n",
              "      <td>thriller</td>\n",
              "      <td>A brother and sister with a past incestuous r...</td>\n",
              "      <td>1</td>\n",
              "    </tr>\n",
              "    <tr>\n",
              "      <th>2</th>\n",
              "      <td>Young, Wild and Wonderful (1980)</td>\n",
              "      <td>adult</td>\n",
              "      <td>As the bus empties the students for their fie...</td>\n",
              "      <td>2</td>\n",
              "    </tr>\n",
              "    <tr>\n",
              "      <th>3</th>\n",
              "      <td>The Secret Sin (1915)</td>\n",
              "      <td>drama</td>\n",
              "      <td>To help their unemployed father make ends mee...</td>\n",
              "      <td>0</td>\n",
              "    </tr>\n",
              "    <tr>\n",
              "      <th>4</th>\n",
              "      <td>The Unrecovered (2007)</td>\n",
              "      <td>drama</td>\n",
              "      <td>The film's title refers not only to the un-re...</td>\n",
              "      <td>0</td>\n",
              "    </tr>\n",
              "  </tbody>\n",
              "</table>\n",
              "</div>"
            ],
            "text/plain": [
              "                                 name       class   \n",
              "0       Oscar et la dame rose (2009)       drama   \\\n",
              "1                       Cupid (1997)    thriller    \n",
              "2   Young, Wild and Wonderful (1980)       adult    \n",
              "3              The Secret Sin (1915)       drama    \n",
              "4             The Unrecovered (2007)       drama    \n",
              "\n",
              "                                         description  category_id  \n",
              "0   Listening in to a conversation between his do...            0  \n",
              "1   A brother and sister with a past incestuous r...            1  \n",
              "2   As the bus empties the students for their fie...            2  \n",
              "3   To help their unemployed father make ends mee...            0  \n",
              "4   The film's title refers not only to the un-re...            0  "
            ]
          },
          "execution_count": 13,
          "metadata": {},
          "output_type": "execute_result"
        }
      ],
      "source": [
        "# Create a new column 'category_id' with encoded categories\n",
        "df['category_id'] = df['class'].factorize()[0]\n",
        "category_id_df = df[['class', 'category_id']].drop_duplicates()\n",
        "\n",
        "\n",
        "# Dictionaries for future use\n",
        "category_to_id = dict(category_id_df.values)\n",
        "id_to_category = dict(category_id_df[['category_id', 'class']].values)\n",
        "\n",
        "# New dataframe\n",
        "df.head()"
      ]
    },
    {
      "attachments": {},
      "cell_type": "markdown",
      "metadata": {
        "id": "Oo39CDlxThAc"
      },
      "source": [
        "# Test - Train split"
      ]
    },
    {
      "cell_type": "code",
      "execution_count": 14,
      "metadata": {
        "id": "mnMhyyLmTjOJ"
      },
      "outputs": [],
      "source": [
        "from sklearn.model_selection import train_test_split\n",
        "\n",
        "X = df['description']\n",
        "y = df['category_id']\n",
        "\n",
        "X_train, X_test, y_train, y_test = train_test_split(X, y, test_size=0.25, random_state = 20)"
      ]
    },
    {
      "attachments": {},
      "cell_type": "markdown",
      "metadata": {
        "id": "ye7hce9vFyZu"
      },
      "source": [
        "# Create Embedding Generator"
      ]
    },
    {
      "cell_type": "code",
      "execution_count": 15,
      "metadata": {
        "colab": {
          "base_uri": "https://localhost:8080/"
        },
        "id": "O4lQwf9OFl7h",
        "outputId": "86f77484-ee8c-4dba-9db5-c4ecea9950ef"
      },
      "outputs": [
        {
          "name": "stderr",
          "output_type": "stream",
          "text": [
            "Some weights of RobertaModel were not initialized from the model checkpoint at roberta-base and are newly initialized: ['roberta.pooler.dense.bias', 'roberta.pooler.dense.weight']\n",
            "You should probably TRAIN this model on a down-stream task to be able to use it for predictions and inference.\n"
          ]
        }
      ],
      "source": [
        "from transformers import RobertaTokenizer, RobertaModel\n",
        "tokenizer = RobertaTokenizer.from_pretrained('roberta-base')\n",
        "model = RobertaModel.from_pretrained('roberta-base')"
      ]
    },
    {
      "cell_type": "code",
      "execution_count": 16,
      "metadata": {
        "id": "I_M3vJtZKLz7"
      },
      "outputs": [],
      "source": [
        "import torch\n",
        "\n",
        "def iter_data(inputs, outputs, batch_size):\n",
        "  n = inputs.shape[0]\n",
        "  idx = torch.randperm(n) # to have a random batch\n",
        "  for i in range(0, n, batch_size):\n",
        "    batch_idx = idx[i:i+batch_size]\n",
        "    encoded_input = tokenizer(inputs[batch_idx].tolist(), return_tensors='pt', padding=True, truncation=True)\n",
        "    output = model(**encoded_input)\n",
        "    batch = output.pooler_output, torch.from_numpy(outputs[batch_idx])\n",
        "    yield batch # generator"
      ]
    },
    {
      "attachments": {},
      "cell_type": "markdown",
      "metadata": {
        "id": "jitIDatYYNNc"
      },
      "source": [
        "# Classification"
      ]
    },
    {
      "cell_type": "code",
      "execution_count": 17,
      "metadata": {
        "id": "QKLM-RoYYOsH"
      },
      "outputs": [],
      "source": [
        "import torch.nn as nn\n",
        "mlp_model = nn.Sequential(\n",
        "    nn.Linear(768, 27, bias=True),\n",
        "    nn.ReLU()\n",
        ")"
      ]
    },
    {
      "cell_type": "code",
      "execution_count": 18,
      "metadata": {
        "colab": {
          "base_uri": "https://localhost:8080/"
        },
        "id": "kNwwPaObY-AX",
        "outputId": "696fb04a-2df7-4ee3-a39e-62753c548d71"
      },
      "outputs": [
        {
          "name": "stdout",
          "output_type": "stream",
          "text": [
            "iteration: 1/40 loss: 3.281254768371582\n",
            "iteration: 2/40 loss: 3.268577814102173\n",
            "iteration: 3/40 loss: 3.223144054412842\n",
            "iteration: 4/40 loss: 3.314711809158325\n",
            "iteration: 5/40 loss: 3.3127288818359375\n",
            "iteration: 6/40 loss: 3.2680482864379883\n",
            "iteration: 7/40 loss: 3.274035930633545\n",
            "iteration: 8/40 loss: 3.315958261489868\n",
            "iteration: 9/40 loss: 3.2820684909820557\n",
            "iteration: 10/40 loss: 3.24096417427063\n",
            "iteration: 11/40 loss: 3.3598339557647705\n",
            "iteration: 12/40 loss: 3.3222508430480957\n",
            "iteration: 13/40 loss: 3.2869019508361816\n",
            "iteration: 14/40 loss: 3.283547878265381\n",
            "iteration: 15/40 loss: 3.2925710678100586\n",
            "iteration: 16/40 loss: 3.3875694274902344\n",
            "iteration: 17/40 loss: 3.3388829231262207\n",
            "iteration: 18/40 loss: 3.3568296432495117\n",
            "iteration: 19/40 loss: 3.3066036701202393\n",
            "iteration: 20/40 loss: 3.3380064964294434\n",
            "iteration: 21/40 loss: 3.2967827320098877\n",
            "iteration: 22/40 loss: 3.349731206893921\n",
            "iteration: 23/40 loss: 3.2806570529937744\n",
            "iteration: 24/40 loss: 3.344357490539551\n",
            "iteration: 25/40 loss: 3.2814254760742188\n",
            "iteration: 26/40 loss: 3.360886573791504\n"
          ]
        }
      ],
      "source": [
        "import torch.optim as optim\n",
        "\n",
        "loss_func = nn.CrossEntropyLoss()\n",
        "\n",
        "optimizer = optim.SGD(mlp_model.parameters(), lr=0.01)\n",
        "\n",
        "max_epochs = 1\n",
        "losses = []\n",
        "iteration = 0\n",
        "\n",
        "for epoch in range(max_epochs):\n",
        "  for batch in iter_data(X_train.to_numpy(), y_train.to_numpy(), 8):\n",
        "    x_batch, y_batch = batch\n",
        "    preds = mlp_model(x_batch) # predictions\n",
        "    loss = loss_func(preds, y_batch)\n",
        "    optimizer.zero_grad()\n",
        "    loss.backward() # get gradients\n",
        "    optimizer.step()\n",
        "    iteration += 1\n",
        "    print(f\"iteration: {iteration}/{int(len(y_train) / 5.0)} loss: {loss.item()}\")\n",
        "    losses.append(loss.item()) # extract from tensor a scalar"
      ]
    },
    {
      "cell_type": "code",
      "execution_count": 21,
      "metadata": {
        "colab": {
          "base_uri": "https://localhost:8080/",
          "height": 447
        },
        "id": "Yqf8DZ_AZAEi",
        "outputId": "0f32ca06-01f5-492f-f3db-cf5c448da765"
      },
      "outputs": [
        {
          "data": {
            "text/plain": [
              "[<matplotlib.lines.Line2D at 0x7f26886aa0d0>]"
            ]
          },
          "execution_count": 21,
          "metadata": {},
          "output_type": "execute_result"
        },
        {
          "data": {
            "image/png": "[encoded data removed]",
            "text/plain": [
              "<Figure size 640x480 with 1 Axes>"
            ]
          },
          "metadata": {},
          "output_type": "display_data"
        }
      ],
      "source": [
        "import matplotlib.pyplot as plt\n",
        "\n",
        "plt.plot(losses)"
      ]
    },
    {
      "attachments": {},
      "cell_type": "markdown",
      "metadata": {
        "id": "ghb6ak7OfGf1"
      },
      "source": [
        "# Evaluation"
      ]
    },
    {
      "cell_type": "code",
      "execution_count": 22,
      "metadata": {
        "colab": {
          "base_uri": "https://localhost:8080/"
        },
        "id": "TqKwh3ZOfIep",
        "outputId": "5a5859e3-c71c-4ec6-ccdf-d5a98aff9961"
      },
      "outputs": [
        {
          "name": "stdout",
          "output_type": "stream",
          "text": [
            "tmp Accuracy: 0.0\n",
            "tmp Accuracy: 0.20000000298023224\n",
            "tmp Accuracy: 0.0\n",
            "tmp Accuracy: 0.0\n",
            "tmp Accuracy: 0.0\n",
            "tmp Accuracy: 0.0\n",
            "tmp Accuracy: 0.0\n",
            "tmp Accuracy: 0.0\n",
            "tmp Accuracy: 0.0\n",
            "tmp Accuracy: 0.0\n",
            "tmp Accuracy: 0.0\n",
            "tmp Accuracy: 0.20000000298023224\n",
            "tmp Accuracy: 0.0\n",
            "tmp Accuracy: 0.0\n",
            "total Accuracy: 0.029411764815449715\n"
          ]
        }
      ],
      "source": [
        "acc_sum = 0\n",
        "\n",
        "for batch in iter_data(X_test.to_numpy(), y_test.to_numpy(), 5):\n",
        "  x_batch, y_batch = batch\n",
        "  preds = mlp_model(x_batch)\n",
        "  label_pred = torch.argmax(preds, dim=1)\n",
        "  test_acc = torch.sum(label_pred == y_batch)\n",
        "  acc_sum += test_acc\n",
        "  print(f\"tmp Accuracy: {test_acc / 5.0}\")\n",
        "\n",
        "print(f\"total Accuracy: {acc_sum / float(len(y_test))}\")"
      ]
    }
  ],
  "metadata": {
    "colab": {
      "provenance": []
    },
    "kernelspec": {
      "display_name": "Python 3",
      "name": "python3"
    },
    "language_info": {
      "codemirror_mode": {
        "name": "ipython",
        "version": 3
      },
      "file_extension": ".py",
      "mimetype": "text/x-python",
      "name": "python",
      "nbconvert_exporter": "python",
      "pygments_lexer": "ipython3",
      "version": "3.8.10"
    }
  },
  "nbformat": 4,
  "nbformat_minor": 0
}
