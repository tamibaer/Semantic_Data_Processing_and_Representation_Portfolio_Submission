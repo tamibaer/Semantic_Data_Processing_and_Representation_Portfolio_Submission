{
 "cells": [
  {
   "attachments": {},
   "cell_type": "markdown",
   "metadata": {},
   "source": [
    "# Movie genre classification from description"
   ]
  },
  {
   "cell_type": "code",
   "execution_count": 40,
   "metadata": {},
   "outputs": [],
   "source": [
    "import numpy as np\n",
    "import pandas as pd\n",
    "import nltk\n",
    "from nltk.tokenize import word_tokenize\n",
    "from gensim.models import KeyedVectors\n",
    "\n",
    "from sklearn import metrics\n",
    "from sklearn.ensemble import RandomForestClassifier\n",
    "from sklearn.model_selection import train_test_split\n",
    "from sklearn.svm import LinearSVC\n",
    "from sklearn.model_selection import cross_val_score"
   ]
  },
  {
   "cell_type": "code",
   "execution_count": 11,
   "metadata": {},
   "outputs": [
    {
     "name": "stdout",
     "output_type": "stream",
     "text": [
      "1 ::: Oscar et la dame rose (2009) ::: drama ::: Listening in to a conversation between his doctor and parents, 10-year-old Oscar learns what nobody has the courage to tell him. He only has a few weeks to live. Furious, he refuses to speak to anyone except straight-talking Rose, the lady in pink he meets on the hospital stairs. As Christmas approaches, Rose uses her fantastical experiences as a professional wrestler, her imagination, wit and charm to allow Oscar to live life and love to the full, in the company of his friends Pop Corn, Einstein, Bacon and childhood sweetheart Peggy Blue.\n",
      "\n",
      "2 ::: Cupid (1997) ::: thriller ::: A brother and sister with a past incestuous relationship have a current murderous relationship. He murders the women who reject him and she murders the women who get too close to him.\n",
      "\n",
      "3 ::: Young, Wild and Wonderful (1980) ::: adult ::: As the bus empties the students for their field trip to the Museum of Natural History, little does the tour guide suspect that the students are there for more than just another tour. First, during the lecture films, the coeds drift into dreams of the most erotic fantasies one can imagine. After the films, they release the emotion of the fantasies in the most erotic and uncommon ways. One slips off to the curator's office for a little \"acquisition. \" Another finds the anthropologist to see what bones can be identified. Even the head teacher isn't immune. Soon the tour is over, but as the bus departs, everyone admits it was quite an education.\n",
      "\n",
      "4 ::: The Secret Sin (1915) ::: drama ::: To help their unemployed father make ends meet, Edith and her twin sister Grace work as seamstresses . An invalid, Grace falls prey to the temptations of Chinatown opium and becomes an addict, a condition worsened by a misguided physician who prescribes morphine to ease her pain. When their father strikes oil, the family enjoys a new prosperity and the sisters meet the eligible Jack Herron, a fellow oil prospector. To Grace's shock, Jack falls in love with Edith and in her jealousy, Grace tells Jack that Edith, not she, has a drug problem. Hinting that her sister will soon need more morphine, Grace arranges for a dinner in Chinatown with the couple. While her sister and Jack dance, Grace slips away to an opium den. Edith follows her, but ends up in the wrong den and is arrested in an ensuing drug raid. After he bails her out of jail, Edith takes an angry Jack to search for Grace and stumbles across her half-conscious body lying in the street. The truth about the sisters is revealed, and after sending Grace to a sanitarium in the country, Jack and Edith are married.\n",
      "\n",
      "5 ::: The Unrecovered (2007) ::: drama ::: The film's title refers not only to the un-recovered bodies at ground zero, but also to the state of the nation at large. Set in the hallucinatory period of time between September 11 and Halloween of 2001, The Unrecovered examines the effect of terror on the average mind, the way a state of heightened anxiety and/or alertness can cause the average person to make the sort of imaginative connections that are normally made only by artists and conspiracy theorists-both of whom figure prominently in this film. The Unrecovered explores the way in which irony, empathy, and paranoia relate to one another in the wake of 9/11.\n",
      "\n"
     ]
    }
   ],
   "source": [
    "text_file = open(\"train_data.txt\", \"r\")\n",
    "for i, line in enumerate(text_file):\n",
    "    print(line)\n",
    "    if i == 4:\n",
    "        break"
   ]
  },
  {
   "cell_type": "code",
   "execution_count": 12,
   "metadata": {},
   "outputs": [
    {
     "data": {
      "text/html": [
       "<div>\n",
       "<style scoped>\n",
       "    .dataframe tbody tr th:only-of-type {\n",
       "        vertical-align: middle;\n",
       "    }\n",
       "\n",
       "    .dataframe tbody tr th {\n",
       "        vertical-align: top;\n",
       "    }\n",
       "\n",
       "    .dataframe thead th {\n",
       "        text-align: right;\n",
       "    }\n",
       "</style>\n",
       "<table border=\"1\" class=\"dataframe\">\n",
       "  <thead>\n",
       "    <tr style=\"text-align: right;\">\n",
       "      <th></th>\n",
       "      <th>name</th>\n",
       "      <th>class</th>\n",
       "      <th>description</th>\n",
       "    </tr>\n",
       "  </thead>\n",
       "  <tbody>\n",
       "    <tr>\n",
       "      <th>0</th>\n",
       "      <td>Oscar et la dame rose (2009)</td>\n",
       "      <td>drama</td>\n",
       "      <td>Listening in to a conversation between his do...</td>\n",
       "    </tr>\n",
       "    <tr>\n",
       "      <th>1</th>\n",
       "      <td>Cupid (1997)</td>\n",
       "      <td>thriller</td>\n",
       "      <td>A brother and sister with a past incestuous r...</td>\n",
       "    </tr>\n",
       "    <tr>\n",
       "      <th>2</th>\n",
       "      <td>Young, Wild and Wonderful (1980)</td>\n",
       "      <td>adult</td>\n",
       "      <td>As the bus empties the students for their fie...</td>\n",
       "    </tr>\n",
       "    <tr>\n",
       "      <th>3</th>\n",
       "      <td>The Secret Sin (1915)</td>\n",
       "      <td>drama</td>\n",
       "      <td>To help their unemployed father make ends mee...</td>\n",
       "    </tr>\n",
       "    <tr>\n",
       "      <th>4</th>\n",
       "      <td>The Unrecovered (2007)</td>\n",
       "      <td>drama</td>\n",
       "      <td>The film's title refers not only to the un-re...</td>\n",
       "    </tr>\n",
       "  </tbody>\n",
       "</table>\n",
       "</div>"
      ],
      "text/plain": [
       "                                 name       class   \n",
       "0       Oscar et la dame rose (2009)       drama   \\\n",
       "1                       Cupid (1997)    thriller    \n",
       "2   Young, Wild and Wonderful (1980)       adult    \n",
       "3              The Secret Sin (1915)       drama    \n",
       "4             The Unrecovered (2007)       drama    \n",
       "\n",
       "                                         description  \n",
       "0   Listening in to a conversation between his do...  \n",
       "1   A brother and sister with a past incestuous r...  \n",
       "2   As the bus empties the students for their fie...  \n",
       "3   To help their unemployed father make ends mee...  \n",
       "4   The film's title refers not only to the un-re...  "
      ]
     },
     "execution_count": 12,
     "metadata": {},
     "output_type": "execute_result"
    }
   ],
   "source": [
    "df = pd.read_csv('train_data.txt', sep=':::', header=None, engine='python')\n",
    "df = df.drop(0, axis=1)\n",
    "df.columns = ['name', 'class', 'description']\n",
    "df.head()"
   ]
  },
  {
   "attachments": {},
   "cell_type": "markdown",
   "metadata": {},
   "source": [
    "# Class balance - Downsample"
   ]
  },
  {
   "cell_type": "code",
   "execution_count": 13,
   "metadata": {},
   "outputs": [
    {
     "data": {
      "text/plain": [
       "class\n",
       " drama           2000\n",
       " documentary     2000\n",
       " comedy          2000\n",
       " horror          2000\n",
       " short           2000\n",
       " thriller        1591\n",
       " action          1315\n",
       " western         1032\n",
       " reality-tv       884\n",
       " family           784\n",
       " adventure        775\n",
       " music            731\n",
       " romance          672\n",
       " sci-fi           647\n",
       " adult            590\n",
       " crime            505\n",
       " animation        498\n",
       " sport            432\n",
       " talk-show        391\n",
       " fantasy          323\n",
       " mystery          319\n",
       " musical          277\n",
       " biography        265\n",
       " history          243\n",
       " game-show        194\n",
       " news             181\n",
       " war              132\n",
       "Name: count, dtype: int64"
      ]
     },
     "execution_count": 13,
     "metadata": {},
     "output_type": "execute_result"
    }
   ],
   "source": [
    "# Cap the number of rows per class to 1000\n",
    "df = df.groupby('class').head(2000).reset_index(drop=True)\n",
    "\n",
    "df['class'].value_counts()"
   ]
  },
  {
   "cell_type": "code",
   "execution_count": 14,
   "metadata": {},
   "outputs": [],
   "source": [
    "# Load the pretrained word2vec model\n",
    "word_vectors = KeyedVectors.load_word2vec_format('GoogleNews-vectors-negative300.bin', binary=True)  "
   ]
  },
  {
   "cell_type": "code",
   "execution_count": 19,
   "metadata": {},
   "outputs": [
    {
     "name": "stderr",
     "output_type": "stream",
     "text": [
      "[nltk_data] Downloading package punkt to /home/tamara/nltk_data...\n",
      "[nltk_data]   Unzipping tokenizers/punkt.zip.\n"
     ]
    },
    {
     "data": {
      "text/plain": [
       "True"
      ]
     },
     "execution_count": 19,
     "metadata": {},
     "output_type": "execute_result"
    }
   ],
   "source": [
    "nltk.download('punkt')"
   ]
  },
  {
   "cell_type": "code",
   "execution_count": 20,
   "metadata": {},
   "outputs": [
    {
     "data": {
      "text/html": [
       "<div>\n",
       "<style scoped>\n",
       "    .dataframe tbody tr th:only-of-type {\n",
       "        vertical-align: middle;\n",
       "    }\n",
       "\n",
       "    .dataframe tbody tr th {\n",
       "        vertical-align: top;\n",
       "    }\n",
       "\n",
       "    .dataframe thead th {\n",
       "        text-align: right;\n",
       "    }\n",
       "</style>\n",
       "<table border=\"1\" class=\"dataframe\">\n",
       "  <thead>\n",
       "    <tr style=\"text-align: right;\">\n",
       "      <th></th>\n",
       "      <th>name</th>\n",
       "      <th>class</th>\n",
       "      <th>description</th>\n",
       "      <th>tokens</th>\n",
       "      <th>embeddings</th>\n",
       "    </tr>\n",
       "  </thead>\n",
       "  <tbody>\n",
       "    <tr>\n",
       "      <th>0</th>\n",
       "      <td>Oscar et la dame rose (2009)</td>\n",
       "      <td>drama</td>\n",
       "      <td>Listening in to a conversation between his do...</td>\n",
       "      <td>[Listening, in, to, a, conversation, between, ...</td>\n",
       "      <td>[0.04766588, 0.01824178, 0.0030127345, 0.06860...</td>\n",
       "    </tr>\n",
       "    <tr>\n",
       "      <th>1</th>\n",
       "      <td>Cupid (1997)</td>\n",
       "      <td>thriller</td>\n",
       "      <td>A brother and sister with a past incestuous r...</td>\n",
       "      <td>[A, brother, and, sister, with, a, past, inces...</td>\n",
       "      <td>[-0.028375696, 0.06363706, 0.014784072, 0.0590...</td>\n",
       "    </tr>\n",
       "    <tr>\n",
       "      <th>2</th>\n",
       "      <td>Young, Wild and Wonderful (1980)</td>\n",
       "      <td>adult</td>\n",
       "      <td>As the bus empties the students for their fie...</td>\n",
       "      <td>[As, the, bus, empties, the, students, for, th...</td>\n",
       "      <td>[0.04315985, 0.030337507, 0.009937395, 0.07858...</td>\n",
       "    </tr>\n",
       "    <tr>\n",
       "      <th>3</th>\n",
       "      <td>The Secret Sin (1915)</td>\n",
       "      <td>drama</td>\n",
       "      <td>To help their unemployed father make ends mee...</td>\n",
       "      <td>[To, help, their, unemployed, father, make, en...</td>\n",
       "      <td>[0.028479205, 0.026918862, -0.0075246845, 0.02...</td>\n",
       "    </tr>\n",
       "    <tr>\n",
       "      <th>4</th>\n",
       "      <td>The Unrecovered (2007)</td>\n",
       "      <td>drama</td>\n",
       "      <td>The film's title refers not only to the un-re...</td>\n",
       "      <td>[The, film, 's, title, refers, not, only, to, ...</td>\n",
       "      <td>[0.061470397, 0.024994623, 0.03150613, 0.07394...</td>\n",
       "    </tr>\n",
       "  </tbody>\n",
       "</table>\n",
       "</div>"
      ],
      "text/plain": [
       "                                 name       class   \n",
       "0       Oscar et la dame rose (2009)       drama   \\\n",
       "1                       Cupid (1997)    thriller    \n",
       "2   Young, Wild and Wonderful (1980)       adult    \n",
       "3              The Secret Sin (1915)       drama    \n",
       "4             The Unrecovered (2007)       drama    \n",
       "\n",
       "                                         description   \n",
       "0   Listening in to a conversation between his do...  \\\n",
       "1   A brother and sister with a past incestuous r...   \n",
       "2   As the bus empties the students for their fie...   \n",
       "3   To help their unemployed father make ends mee...   \n",
       "4   The film's title refers not only to the un-re...   \n",
       "\n",
       "                                              tokens   \n",
       "0  [Listening, in, to, a, conversation, between, ...  \\\n",
       "1  [A, brother, and, sister, with, a, past, inces...   \n",
       "2  [As, the, bus, empties, the, students, for, th...   \n",
       "3  [To, help, their, unemployed, father, make, en...   \n",
       "4  [The, film, 's, title, refers, not, only, to, ...   \n",
       "\n",
       "                                          embeddings  \n",
       "0  [0.04766588, 0.01824178, 0.0030127345, 0.06860...  \n",
       "1  [-0.028375696, 0.06363706, 0.014784072, 0.0590...  \n",
       "2  [0.04315985, 0.030337507, 0.009937395, 0.07858...  \n",
       "3  [0.028479205, 0.026918862, -0.0075246845, 0.02...  \n",
       "4  [0.061470397, 0.024994623, 0.03150613, 0.07394...  "
      ]
     },
     "execution_count": 20,
     "metadata": {},
     "output_type": "execute_result"
    }
   ],
   "source": [
    "# Tokenize the description data\n",
    "df['tokens'] = df['description'].apply(word_tokenize)\n",
    "\n",
    "# Convert the tokens to word embeddings using the pretrained model\n",
    "def get_word_embeddings(tokens):\n",
    "    embeddings = []\n",
    "    for token in tokens:\n",
    "        if token in word_vectors.key_to_index:\n",
    "            embeddings.append(word_vectors[token])\n",
    "    return np.mean(embeddings, axis=0)\n",
    "\n",
    "df['embeddings'] = df['tokens'].apply(get_word_embeddings)\n",
    "\n",
    "df.head()"
   ]
  },
  {
   "cell_type": "code",
   "execution_count": 21,
   "metadata": {},
   "outputs": [],
   "source": [
    "X = df['embeddings']\n",
    "y = df['class'] # Target or the labels we want to predict (i.e., the 13 different complaints of products)\n",
    "\n",
    "X_train, X_test, y_train, y_test = train_test_split(X, y,\n",
    "                                                    test_size=0.20,\n",
    "                                                    random_state = 20)"
   ]
  },
  {
   "attachments": {},
   "cell_type": "markdown",
   "metadata": {},
   "source": [
    "# Train LinearSVC"
   ]
  },
  {
   "cell_type": "code",
   "execution_count": 22,
   "metadata": {},
   "outputs": [
    {
     "name": "stdout",
     "output_type": "stream",
     "text": [
      "[0.47133059 0.47599451 0.47462277 0.47709191 0.48572997]\n"
     ]
    }
   ],
   "source": [
    "# Train LinearSVC model from sklearn and evaluate it with cross-val_score\n",
    "svc = LinearSVC(random_state=20, tol=1e-5)\n",
    "scores = cross_val_score(svc, list(X_train), y_train, cv=5)\n",
    "print(scores)"
   ]
  },
  {
   "cell_type": "code",
   "execution_count": 27,
   "metadata": {},
   "outputs": [
    {
     "name": "stdout",
     "output_type": "stream",
     "text": [
      "               precision    recall  f1-score   support\n",
      "\n",
      "       drama        0.45      0.49      0.47       260\n",
      "    thriller        0.53      0.61      0.57       106\n",
      "       adult        0.46      0.17      0.25       167\n",
      " documentary        0.32      0.15      0.21        85\n",
      "      comedy        0.00      0.00      0.00        58\n",
      "       crime        0.43      0.54      0.48       421\n",
      "  reality-tv        0.32      0.06      0.10       113\n",
      "      horror        0.49      0.68      0.57       417\n",
      "       sport        0.34      0.39      0.36       393\n",
      "   animation        0.47      0.29      0.35       140\n",
      "      action        0.40      0.07      0.12        59\n",
      "     fantasy        0.78      0.68      0.73        41\n",
      "       short        0.23      0.06      0.10        49\n",
      "      sci-fi        0.55      0.78      0.65       406\n",
      "       music        0.61      0.83      0.70       163\n",
      "   adventure        0.50      0.08      0.14        48\n",
      "   talk-show        1.00      0.00      0.00        50\n",
      "     western        0.58      0.15      0.24        47\n",
      "      family        0.50      0.45      0.47       169\n",
      "     mystery        0.43      0.33      0.38       132\n",
      "     history        0.42      0.43      0.42       124\n",
      "        news        0.42      0.46      0.44       393\n",
      "   biography        0.59      0.74      0.65        73\n",
      "     romance        0.52      0.38      0.44        89\n",
      "   game-show        0.36      0.33      0.34       298\n",
      "     musical        0.31      0.17      0.22        23\n",
      "         war        0.79      0.90      0.84       233\n",
      "\n",
      "     accuracy                           0.48      4557\n",
      "    macro avg       0.47      0.38      0.38      4557\n",
      " weighted avg       0.47      0.48      0.45      4557\n",
      "\n",
      "Accuracy: 0.48101821373710774\n",
      "Precision: 0.46856575648044585\n",
      "Recall: 0.48101821373710774\n",
      "F1-Score: 0.4531787403545155\n"
     ]
    }
   ],
   "source": [
    "# Test the model on the test data\n",
    "svc.fit(list(X_train), y_train)\n",
    "#test_score = svc.score(list(X_test), y_test)\n",
    "#test_score\n",
    "\n",
    "# Use metrics.classification_report to evaluate the model\n",
    "y_pred = svc.predict(list(X_test))\n",
    "print(metrics.classification_report(y_test, y_pred, target_names=df['class'].unique(), zero_division=1))\n",
    "\n",
    "# print scores\n",
    "print(\"Accuracy:\", metrics.accuracy_score(y_test, y_pred))\n",
    "print(\"Precision:\", metrics.precision_score(y_test, y_pred, average='weighted', zero_division=1))\n",
    "print(\"Recall:\", metrics.recall_score(y_test, y_pred, average='weighted'))\n",
    "print(\"F1-Score:\", metrics.f1_score(y_test, y_pred, average='weighted', zero_division=1))\n"
   ]
  },
  {
   "attachments": {},
   "cell_type": "markdown",
   "metadata": {},
   "source": [
    "### Results\n",
    "- With Down and Up-sampling: \n",
    "    - macro avg: ca. 43% on accuracy, precision, recall and f1-score\n",
    "    - weighted avg: ca. 43% on accuracy, precision, recall and f1-score\n",
    "    - -> Mid score on both big and small classes\n",
    "- With Downsampling: \n",
    "    - macro avg: 44%, 38%, 38% on precision, recall and f1-score\n",
    "    - weighted avg: 46%, 48%, 45% on precision, recall and f1-scoore\n",
    "    - -> In between the other two experiments\n",
    "- Without both: \n",
    "    - macro avg: 49%, 26%, 29% on precision, recall and f1-score\n",
    "    - weighted avg: 55%, 57%, 52% on precision, recall and f1-score\n",
    "    - -> High score on big classes, low score on small classes"
   ]
  },
  {
   "attachments": {},
   "cell_type": "markdown",
   "metadata": {},
   "source": [
    "# Train RandomForestClassifier"
   ]
  },
  {
   "cell_type": "code",
   "execution_count": 28,
   "metadata": {},
   "outputs": [
    {
     "data": {
      "text/plain": [
       "0.37568575817423744"
      ]
     },
     "execution_count": 28,
     "metadata": {},
     "output_type": "execute_result"
    }
   ],
   "source": [
    "# Use random forest classifier\n",
    "rfc = RandomForestClassifier(random_state=20)\n",
    "\n",
    "# Test the model on the test data\n",
    "rfc.fit(list(X_train), y_train)\n",
    "test_score = rfc.score(list(X_test), y_test)\n",
    "test_score"
   ]
  },
  {
   "cell_type": "code",
   "execution_count": 30,
   "metadata": {},
   "outputs": [
    {
     "name": "stdout",
     "output_type": "stream",
     "text": [
      "               precision    recall  f1-score   support\n",
      "\n",
      "       drama        0.42      0.44      0.43       260\n",
      "    thriller        0.51      0.17      0.26       106\n",
      "       adult        0.50      0.05      0.10       167\n",
      " documentary        0.22      0.02      0.04        85\n",
      "      comedy        0.00      0.00      0.00        58\n",
      "       crime        0.30      0.45      0.36       421\n",
      "  reality-tv        1.00      0.03      0.05       113\n",
      "      horror        0.35      0.73      0.47       417\n",
      "       sport        0.26      0.42      0.32       393\n",
      "   animation        0.24      0.03      0.05       140\n",
      "      action        1.00      0.00      0.00        59\n",
      "     fantasy        0.80      0.29      0.43        41\n",
      "       short        1.00      0.00      0.00        49\n",
      "      sci-fi        0.42      0.67      0.52       406\n",
      "       music        0.60      0.78      0.68       163\n",
      "   adventure        1.00      0.00      0.00        48\n",
      "   talk-show        1.00      0.00      0.00        50\n",
      "     western        1.00      0.00      0.00        47\n",
      "      family        0.35      0.31      0.33       169\n",
      "     mystery        0.40      0.09      0.15       132\n",
      "     history        0.56      0.19      0.29       124\n",
      "        news        0.28      0.29      0.28       393\n",
      "   biography        0.59      0.52      0.55        73\n",
      "     romance        0.65      0.17      0.27        89\n",
      "   game-show        0.26      0.20      0.23       298\n",
      "     musical        1.00      0.04      0.08        23\n",
      "         war        0.76      0.74      0.75       233\n",
      "\n",
      "     accuracy                           0.38      4557\n",
      "    macro avg       0.57      0.25      0.25      4557\n",
      " weighted avg       0.44      0.38      0.33      4557\n",
      "\n"
     ]
    }
   ],
   "source": [
    "# Use metrics.classification_report to evaluate the model\n",
    "y_pred = rfc.predict(list(X_test))\n",
    "print(metrics.classification_report(y_test, y_pred, target_names=df['class'].unique(), zero_division=1))"
   ]
  }
 ],
 "metadata": {
  "kernelspec": {
   "display_name": "Python 3 (ipykernel)",
   "language": "python",
   "name": "python3"
  },
  "language_info": {
   "codemirror_mode": {
    "name": "ipython",
    "version": 3
   },
   "file_extension": ".py",
   "mimetype": "text/x-python",
   "name": "python",
   "nbconvert_exporter": "python",
   "pygments_lexer": "ipython3",
   "version": "3.8.10"
  }
 },
 "nbformat": 4,
 "nbformat_minor": 2
}
